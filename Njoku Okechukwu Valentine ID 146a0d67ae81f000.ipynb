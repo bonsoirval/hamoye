{
 "cells": [
  {
   "cell_type": "code",
   "execution_count": 6,
   "id": "537a2714",
   "metadata": {},
   "outputs": [],
   "source": [
    "# ###########################\n",
    "# Njoku Okechukwu Valentine #\n",
    "# ID : 146a0d67ae81f000     #\n",
    "#############################    \n",
    "    \n",
    "import pandas as pd\n",
    "import numpy as np\n",
    "from math import floor"
   ]
  },
  {
   "cell_type": "code",
   "execution_count": 2,
   "id": "82b8f582",
   "metadata": {},
   "outputs": [
    {
     "data": {
      "text/plain": [
       "7965086.130000001"
      ]
     },
     "execution_count": 2,
     "metadata": {},
     "output_type": "execute_result"
    }
   ],
   "source": [
    "dataset = pd.read_csv('dataset.csv')\n",
    "# dataset['Y2014'].sum() \n",
    "\n",
    "# elements = dataset.groupby('Element')\n",
    "# elements.first()\n",
    "# #elements.get_group('Y2014')\n",
    "\n",
    "# dataset['Y2016'].isnull().count()"
   ]
  },
  {
   "cell_type": "markdown",
   "id": "ba3af40b",
   "metadata": {},
   "source": [
    "# Introduction to Python for machine learning questions\n",
    "# No 11 Question\n",
    "What is the total sum of Animal Fat produced in 2014 and 2017 respectively?\n",
    "\n",
    "Hint:\n",
    "\n",
    "Perform a groupby sum aggregation on ‘Item’\n",
    "\n",
    "332319.31 and 125467.80\n",
    "\n",
    "341432.12 and 331245.67\n",
    "\n",
    "209460.54 and 269617.53\n",
    "\n",
    "213450.34 and 35617.22"
   ]
  },
  {
   "cell_type": "markdown",
   "id": "1f8389f4",
   "metadata": {},
   "source": [
    "# N0 11 question answer"
   ]
  },
  {
   "cell_type": "code",
   "execution_count": 3,
   "id": "1279205c",
   "metadata": {},
   "outputs": [
    {
     "name": "stdout",
     "output_type": "stream",
     "text": [
      "The animal fats consumption for \n",
      "Years  2014 and 2017 are 209460.5399999999 and 269617.53 respectively\n"
     ]
    }
   ],
   "source": [
    "groupby_item = dataset.groupby('Item').sum()\n",
    "print(f\"The animal fats consumption for \\nYears  2014 and 2017 are {groupby_item['Y2014']['Animal fats']} and {groupby_item['Y2017']['Animal fats']} respectively\")"
   ]
  },
  {
   "cell_type": "markdown",
   "id": "770024c3",
   "metadata": {},
   "source": [
    "# No. 12  Question\n",
    "What is the mean and standard deviation across the whole dataset for the year 2015 to 3 \n",
    "decimal places?\n",
    "10.60 and 8.49\n",
    "\n",
    "8.\n",
    "\n",
    "5.76 and 10.60\n",
    "\n",
    "135.236 and 1603.404\n",
    "\n",
    "10.60 and 17.01"
   ]
  },
  {
   "cell_type": "markdown",
   "id": "70138784",
   "metadata": {},
   "source": [
    "# No 12 Answer"
   ]
  },
  {
   "cell_type": "code",
   "execution_count": 41,
   "id": "27dee79c",
   "metadata": {
    "scrolled": true
   },
   "outputs": [
    {
     "name": "stdout",
     "output_type": "stream",
     "text": [
      "For 2015, \n",
      "mean : 135.236 and \n",
      "standard deviation : 1603.404 \n",
      "accross the dataset for 2015\n",
      "To 3 decimal places\n"
     ]
    }
   ],
   "source": [
    "print(\"For 2015, \\nmean : {:.3f} and \\\n",
    "\\nstandard deviation : {:.3f} \\\n",
    "\\naccross the dataset for 2015\".format(dataset.mean()['Y2015'], \\\n",
    "                                       dataset.std()['Y2015']))\n",
    "print(\"To 3 decimal places\")"
   ]
  },
  {
   "cell_type": "markdown",
   "id": "e98f5a03",
   "metadata": {},
   "source": [
    "# No 13 Question\n",
    "What is the total number and percentage of missing data in 2016 to 2 decimal places?\n",
    "\n",
    "Options\n",
    "1506 and 2.47\n",
    "\n",
    "1548 and 2.54 \n",
    "\n",
    "1506 and 2.47\n",
    "\n",
    "1535 and 2.52\n",
    "\n",
    "1437 and 2.15 percent"
   ]
  },
  {
   "cell_type": "markdown",
   "id": "5b83a29a",
   "metadata": {},
   "source": [
    "# No 13 Answer"
   ]
  },
  {
   "cell_type": "code",
   "execution_count": 48,
   "id": "702781d9",
   "metadata": {},
   "outputs": [
    {
     "name": "stdout",
     "output_type": "stream",
     "text": [
      "\n",
      "Total number of missing data : 1535.00\n",
      "Percentage of missing data :   2.52\n"
     ]
    }
   ],
   "source": [
    "print(\"\"\"\n",
    "Total number of missing data : {:.2f}\n",
    "Percentage of missing data :   {:.2f}\"\"\".format(dataset.isnull().sum()['Y2016'].sum(), \\\n",
    "dataset.isnull().sum()['Y2016']/len(dataset)*100))"
   ]
  },
  {
   "cell_type": "markdown",
   "id": "94701af2",
   "metadata": {},
   "source": [
    "# No 14 Question\n",
    "Which year had the highest correlation with ‘Element Code’? \n",
    "\n",
    "Options\n",
    "2016\n",
    "\n",
    "2014\n",
    "\n",
    "2017\n",
    "\n",
    "2015"
   ]
  },
  {
   "cell_type": "markdown",
   "id": "f9df3eb8",
   "metadata": {},
   "source": [
    "# No 14 Answer"
   ]
  },
  {
   "cell_type": "code",
   "execution_count": 79,
   "id": "7bf137ea",
   "metadata": {},
   "outputs": [
    {
     "name": "stdout",
     "output_type": "stream",
     "text": [
      "The Highest Correlation ot Element Code is Y2014\n"
     ]
    }
   ],
   "source": [
    "# function to return the closes correlation to 'Element Code'\n",
    "\n",
    "highest_corr = max(dataset['Element Code'].corr(dataset['Y2014']), \n",
    "dataset['Element Code'].corr(dataset['Y2015']), \n",
    "dataset['Element Code'].corr(dataset['Y2016']),\n",
    "dataset['Element Code'].corr(dataset['Y2017']),\n",
    "dataset['Element Code'].corr(dataset['Y2018']))\n",
    "\n",
    "if highest_corr == dataset['Element Code'].corr(dataset['Y2014']):\n",
    "    print(\"The Highest Correlation ot Element Code is Y2014\")\n",
    "elif highest_corr == dataset['Element Code'].corr(dataset['Y2015']):\n",
    "    print(\"The Highest Correlation ot Element Code is Y2015\")\n",
    "elif highest_corr == dataset['Element Code'].corr(dataset['Y2016']):\n",
    "    print(\"The Highest Correlation ot Element Code is Y2016\")\n",
    "elif highest_corr == dataset['Element Code'].corr(dataset['Y2017']):\n",
    "    print(\"The Highest Correlation ot Element Code is Y2017\")\n",
    "elif highest_corr == dataset['Element Code'].corr(dataset['Y2018']):\n",
    "    print(\"The Highest Correlation ot Element Code is Y2018\")\n"
   ]
  },
  {
   "cell_type": "markdown",
   "id": "5864081d",
   "metadata": {},
   "source": [
    "# No 15 Question\n",
    "What year has the highest sum of Import Quantity?\n",
    "\n",
    "Hint- Perform a groupby operation on ‘Element’ and use the resulting Dataframe to answer the question\n",
    "\n",
    "Options\n",
    "2017\n",
    "\n",
    "2014\n",
    "\n",
    "2016\n",
    "\n",
    "2015"
   ]
  },
  {
   "cell_type": "markdown",
   "id": "548bd5d5",
   "metadata": {},
   "source": [
    "# No 15 Answer"
   ]
  },
  {
   "cell_type": "code",
   "execution_count": 159,
   "id": "1e14bbe4",
   "metadata": {},
   "outputs": [
    {
     "data": {
      "text/plain": [
       "Y2017    294559.09\n",
       "dtype: float64"
      ]
     },
     "execution_count": 159,
     "metadata": {},
     "output_type": "execute_result"
    }
   ],
   "source": [
    "# Do groupby as required from question, use index location to slice resulting dataframe\n",
    "# from 7th to 8th row (actually selecting only row 7, \"Import Quantity\") and from \n",
    "# 3 to 7th column getting, now the years involved. After which we get the max in a variable\n",
    "# dataset.groupby('Element').sum().iloc[7:8,3:8].max() gets us only the years and row of \n",
    "# interest dataframe into a variable\n",
    "# we then checked the year with highest entry. \n",
    "highest_import_q = dataset.groupby('Element').sum().iloc[7:8,3:8].max().max()\n",
    "df = dataset.groupby('Element').sum().iloc[7:8,3:8].max()\n",
    "df[df == highest_import_q]"
   ]
  },
  {
   "cell_type": "markdown",
   "id": "e7b56692",
   "metadata": {},
   "source": [
    "# From the above, 2017 has the highest Import Quantity"
   ]
  },
  {
   "cell_type": "markdown",
   "id": "bba37bb9",
   "metadata": {},
   "source": [
    "# No 16 Question "
   ]
  },
  {
   "cell_type": "markdown",
   "id": "9496f293",
   "metadata": {},
   "source": [
    "What is the total number of the sum of Production in 2014?\n",
    "\n",
    "Hint- Perform a groupby operation on ‘Element’ and use the resulting Dataframe to answer the question\n",
    "\n",
    "Options\n",
    "1954537.22\n",
    "\n",
    "202118.43\n",
    "\n",
    "1931287.75\n",
    "\n",
    "207134.67\n",
    "\n",
    "1947019.23"
   ]
  },
  {
   "cell_type": "markdown",
   "id": "c80b5e20",
   "metadata": {},
   "source": [
    "# No 16 Answert"
   ]
  },
  {
   "cell_type": "code",
   "execution_count": 185,
   "id": "52bd4a6f",
   "metadata": {},
   "outputs": [
    {
     "name": "stdout",
     "output_type": "stream",
     "text": [
      "total number of the sum of Production in 2014\n"
     ]
    },
    {
     "data": {
      "text/html": [
       "<div>\n",
       "<style scoped>\n",
       "    .dataframe tbody tr th:only-of-type {\n",
       "        vertical-align: middle;\n",
       "    }\n",
       "\n",
       "    .dataframe tbody tr th {\n",
       "        vertical-align: top;\n",
       "    }\n",
       "\n",
       "    .dataframe thead th {\n",
       "        text-align: right;\n",
       "    }\n",
       "</style>\n",
       "<table border=\"1\" class=\"dataframe\">\n",
       "  <thead>\n",
       "    <tr style=\"text-align: right;\">\n",
       "      <th></th>\n",
       "      <th>Y2014</th>\n",
       "    </tr>\n",
       "    <tr>\n",
       "      <th>Element</th>\n",
       "      <th></th>\n",
       "    </tr>\n",
       "  </thead>\n",
       "  <tbody>\n",
       "    <tr>\n",
       "      <th>Production</th>\n",
       "      <td>1931287.75</td>\n",
       "    </tr>\n",
       "  </tbody>\n",
       "</table>\n",
       "</div>"
      ],
      "text/plain": [
       "                 Y2014\n",
       "Element               \n",
       "Production  1931287.75"
      ]
     },
     "execution_count": 185,
     "metadata": {},
     "output_type": "execute_result"
    }
   ],
   "source": [
    "print(\"total number of the sum of Production in 2014\")\n",
    "dataset.groupby('Element').sum().iloc[11:12,3:4]"
   ]
  },
  {
   "cell_type": "markdown",
   "id": "8040910e",
   "metadata": {},
   "source": [
    "# N0 17 Question\n",
    "Which of these elements had the highest sum in 2018?\n",
    "\n",
    "Hint-  Select columns ‘Y2018’ and ‘Element’, Perform a groupby operation on ‘Element’ on the selected dataframe and answer the  question.\n",
    "\n",
    "Options\n",
    "Import quantity  8\n",
    "\n",
    "Food supply quantity (kg/capita/yr) 7\n",
    "\n",
    "Food supply (k/cal/capita/day) 6\n",
    "\n",
    "Domestic supply quantity 1"
   ]
  },
  {
   "cell_type": "markdown",
   "id": "f533ab07",
   "metadata": {},
   "source": [
    "# No 17 Answert"
   ]
  },
  {
   "cell_type": "code",
   "execution_count": 258,
   "id": "8aac5216",
   "metadata": {},
   "outputs": [
    {
     "data": {
      "text/html": [
       "<div>\n",
       "<style scoped>\n",
       "    .dataframe tbody tr th:only-of-type {\n",
       "        vertical-align: middle;\n",
       "    }\n",
       "\n",
       "    .dataframe tbody tr th {\n",
       "        vertical-align: top;\n",
       "    }\n",
       "\n",
       "    .dataframe thead th {\n",
       "        text-align: right;\n",
       "    }\n",
       "</style>\n",
       "<table border=\"1\" class=\"dataframe\">\n",
       "  <thead>\n",
       "    <tr style=\"text-align: right;\">\n",
       "      <th></th>\n",
       "      <th>Y2018</th>\n",
       "    </tr>\n",
       "    <tr>\n",
       "      <th>Element</th>\n",
       "      <th></th>\n",
       "    </tr>\n",
       "  </thead>\n",
       "  <tbody>\n",
       "    <tr>\n",
       "      <th>Domestic supply quantity</th>\n",
       "      <td>2161192.10</td>\n",
       "    </tr>\n",
       "    <tr>\n",
       "      <th>Food supply (kcal/capita/day)</th>\n",
       "      <td>455261.00</td>\n",
       "    </tr>\n",
       "    <tr>\n",
       "      <th>Food supply quantity (kg/capita/yr)</th>\n",
       "      <td>49056.85</td>\n",
       "    </tr>\n",
       "    <tr>\n",
       "      <th>Import Quantity</th>\n",
       "      <td>287997.09</td>\n",
       "    </tr>\n",
       "  </tbody>\n",
       "</table>\n",
       "</div>"
      ],
      "text/plain": [
       "                                          Y2018\n",
       "Element                                        \n",
       "Domestic supply quantity             2161192.10\n",
       "Food supply (kcal/capita/day)         455261.00\n",
       "Food supply quantity (kg/capita/yr)    49056.85\n",
       "Import Quantity                       287997.09"
      ]
     },
     "execution_count": 258,
     "metadata": {},
     "output_type": "execute_result"
    }
   ],
   "source": [
    "df_16 = dataset.loc[:,['Y2018', 'Element']].groupby('Element').sum()\n",
    "#.drop([5,6], axis=0, inplace=True)\n",
    "#new_df_16 = df_16.drop([2,3,4,5], axis=0)\n",
    "#df_16.drop(['Export Quantity', 'Feed'])\n",
    "new_df_16 = df_16.iloc[0:8,:]\n",
    "highest_sum = new_df_16.drop(['Export Quantity','Fat supply quantity (g/capita/day)','Feed','Food'])\n",
    "max_num = highest_sum['Y2018'].max()\n",
    "x = highest_sum[highest_sum == max_num]\n",
    "highest_sum"
   ]
  },
  {
   "cell_type": "code",
   "execution_count": 260,
   "id": "8aed5e17",
   "metadata": {},
   "outputs": [
    {
     "name": "stdout",
     "output_type": "stream",
     "text": [
      "In Y2018, Domestic supply quantiy was the highest.\n",
      "With a total of : 2161192.1\n"
     ]
    }
   ],
   "source": [
    "print(\"In Y2018, Domestic supply quantiy was the highest.\")\n",
    "print(f\"With a total of : {max_num}\")"
   ]
  },
  {
   "cell_type": "markdown",
   "id": "9498cf4a",
   "metadata": {},
   "source": [
    "# No 18 Question\n",
    "Which of these elements had the 3rd lowest sum in 2018?\n",
    "\n",
    "Hint-  Select columns ‘Y2018’ and ‘Element’, Perform a groupby operation on ‘Element’ on the selected dataframe and answer the  question.  \n",
    "\n",
    "Options\n",
    "\n",
    "Fat supply quantity (g/capita/day) 2\n",
    "\n",
    "Food supply quantity (kg/capita/yr) 7\n",
    "\n",
    "Food supply (kcal/capita/day) 14\n",
    "\n",
    "Seed 5\n",
    "\n",
    "Protein supply quantity (g/capita/day) 3"
   ]
  },
  {
   "cell_type": "markdown",
   "id": "7fde3444",
   "metadata": {},
   "source": [
    "# No 18 Answer"
   ]
  },
  {
   "cell_type": "code",
   "execution_count": 279,
   "id": "79589540",
   "metadata": {},
   "outputs": [
    {
     "data": {
      "text/plain": [
       "Element\n",
       "Fat supply quantity (g/capita/day)         10258.69\n",
       "Protein supply quantity (g/capita/day)     11833.56\n",
       "Seed                                       25263.14\n",
       "Food supply quantity (kg/capita/yr)        49056.85\n",
       "Food supply (kcal/capita/day)             455261.00\n",
       "Name: Y2018, dtype: float64"
      ]
     },
     "execution_count": 279,
     "metadata": {},
     "output_type": "execute_result"
    }
   ],
   "source": [
    "dataset.groupby(['Element']).sum()['Y2018']\n",
    "# Sorting group keys on descending order\n",
    "groupedDF = dataset.groupby('Element',sort=False).sum()\n",
    "sortedDF=groupedDF.sort_values('Y2018', ascending=True)\n",
    "sortedDF['Y2018'].drop(['Tourist consumption','Stock Variation','Residuals','Other uses (non-food)'\n",
    ",'Losses','Export Quantity','Feed','Import Quantity','Processing',\n",
    "'Total Population - Both sexes','Food','Production','Domestic supply quantity' ])\n",
    "#to_drop = ['']"
   ]
  },
  {
   "cell_type": "code",
   "execution_count": 280,
   "id": "5d2c603e",
   "metadata": {},
   "outputs": [
    {
     "name": "stdout",
     "output_type": "stream",
     "text": [
      "From the above, Seed has the 3rd lowest sum in 2018\n"
     ]
    }
   ],
   "source": [
    "print(\"From the above, Seed has the 3rd lowest sum in 2018\")"
   ]
  },
  {
   "cell_type": "markdown",
   "id": "32fddab2",
   "metadata": {},
   "source": [
    "# No 19 Question\n",
    "What is the total Import Quantity in Algeria in 2018?\n",
    "\n",
    "Options\n",
    "\n",
    "36238.29\n",
    "36736.08\n",
    "37841.91\n",
    "36059.29"
   ]
  },
  {
   "cell_type": "markdown",
   "id": "825e3a94",
   "metadata": {},
   "source": [
    "# No 19 Answer"
   ]
  },
  {
   "cell_type": "code",
   "execution_count": 337,
   "id": "29a1f9d4",
   "metadata": {
    "scrolled": false
   },
   "outputs": [
    {
     "data": {
      "text/html": [
       "<div>\n",
       "<style scoped>\n",
       "    .dataframe tbody tr th:only-of-type {\n",
       "        vertical-align: middle;\n",
       "    }\n",
       "\n",
       "    .dataframe tbody tr th {\n",
       "        vertical-align: top;\n",
       "    }\n",
       "\n",
       "    .dataframe thead th {\n",
       "        text-align: right;\n",
       "    }\n",
       "</style>\n",
       "<table border=\"1\" class=\"dataframe\">\n",
       "  <thead>\n",
       "    <tr style=\"text-align: right;\">\n",
       "      <th></th>\n",
       "      <th></th>\n",
       "      <th>Y2018</th>\n",
       "    </tr>\n",
       "    <tr>\n",
       "      <th>Area</th>\n",
       "      <th>Element</th>\n",
       "      <th></th>\n",
       "    </tr>\n",
       "  </thead>\n",
       "  <tbody>\n",
       "    <tr>\n",
       "      <th>Algeria</th>\n",
       "      <th>Import Quantity</th>\n",
       "      <td>36238.29</td>\n",
       "    </tr>\n",
       "  </tbody>\n",
       "</table>\n",
       "</div>"
      ],
      "text/plain": [
       "                            Y2018\n",
       "Area    Element                  \n",
       "Algeria Import Quantity  36238.29"
      ]
     },
     "execution_count": 337,
     "metadata": {},
     "output_type": "execute_result"
    }
   ],
   "source": [
    "dataset.groupby('Area').sum()['Y2018']\n",
    "dataset.loc[:,['Y2018', 'Element']].groupby('Element').sum()\n",
    "#dataset.groupby('Element').agg({'sum', 'count'})['Y2018']\n",
    "dataset.groupby(['Area', 'Element']).sum().iloc[7:8,7:9]"
   ]
  },
  {
   "cell_type": "code",
   "execution_count": 338,
   "id": "6eba6cf1",
   "metadata": {},
   "outputs": [
    {
     "name": "stdout",
     "output_type": "stream",
     "text": [
      "From above, total Import Quantity for Algeria in 2018 is : 36238.29 \n",
      " as shown above\n"
     ]
    }
   ],
   "source": [
    "print(\"From above, total Import Quantity for Algeria in 2018 is : 36238.29 \\\n",
    "\\n as shown above\")"
   ]
  },
  {
   "cell_type": "markdown",
   "id": "91a6f8da",
   "metadata": {},
   "source": [
    "# N0 20 Question\n",
    "What is the total number of unique countries in the dataset?\n",
    "\n",
    "Options\n",
    "39\n",
    "50\n",
    "49\n",
    "45"
   ]
  },
  {
   "cell_type": "markdown",
   "id": "61d9f1c9",
   "metadata": {},
   "source": [
    "# No 20 Answer"
   ]
  },
  {
   "cell_type": "code",
   "execution_count": 352,
   "id": "621786ed",
   "metadata": {},
   "outputs": [
    {
     "name": "stdout",
     "output_type": "stream",
     "text": [
      "Total number of unique countries in the dataset is : 49\n"
     ]
    }
   ],
   "source": [
    "print(f\"Total number of unique countries in the dataset is : {len(dataset['Area'].unique())}\")"
   ]
  },
  {
   "cell_type": "code",
   "execution_count": null,
   "id": "ef043e76",
   "metadata": {},
   "outputs": [],
   "source": []
  }
 ],
 "metadata": {
  "kernelspec": {
   "display_name": "Python 3",
   "language": "python",
   "name": "python3"
  },
  "language_info": {
   "codemirror_mode": {
    "name": "ipython",
    "version": 3
   },
   "file_extension": ".py",
   "mimetype": "text/x-python",
   "name": "python",
   "nbconvert_exporter": "python",
   "pygments_lexer": "ipython3",
   "version": "3.6.9"
  }
 },
 "nbformat": 4,
 "nbformat_minor": 5
}
