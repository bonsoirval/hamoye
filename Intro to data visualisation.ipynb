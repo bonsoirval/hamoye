{
 "cells": [
  {
   "cell_type": "code",
   "execution_count": null,
   "id": "5c07531f",
   "metadata": {},
   "outputs": [],
   "source": [
    "# Source link: https://app.hamoye.com/course-details/146927115141f000\n",
    "# fix the above plot"
   ]
  },
  {
   "cell_type": "code",
   "execution_count": 63,
   "id": "f884964b",
   "metadata": {},
   "outputs": [],
   "source": [
    "# import plotting library\n",
    "import seaborn as sns\n",
    "import matplotlib.pyplot as plt\n",
    "import pandas as pd\n",
    "import numpy as np\n"
   ]
  },
  {
   "cell_type": "code",
   "execution_count": 86,
   "id": "925191dc",
   "metadata": {},
   "outputs": [
    {
     "data": {
      "image/png": "[encoded data removed]",
      "text/plain": [
       "<Figure size 432x288 with 1 Axes>"
      ]
     },
     "metadata": {
      "needs_background": "light"
     },
     "output_type": "display_data"
    }
   ],
   "source": [
    "#create dictionary data \n",
    "\n",
    "# create dataframe using the data dictionary \n",
    "fuel_unit = pd.DataFrame({'unit':['BBL', 'GAL', 'GRAMSU', 'KGU', 'MCF', 'MMBTU', 'MWDTH', 'MWHTH', 'TON'], 'count':[7998, 84, 464, 110, 11354, 180, 95, 100, 8958]})\n",
    "\n",
    "# vertical barchat\n",
    "plt.bar(data=fuel_unit,height='count',x='unit')\n",
    "plt.show(block=True)\n"
   ]
  },
  {
   "cell_type": "code",
   "execution_count": 77,
   "id": "58a7be06",
   "metadata": {},
   "outputs": [
    {
     "data": {
      "text/plain": [
       "(1, 12000)"
      ]
     },
     "execution_count": 77,
     "metadata": {},
     "output_type": "execute_result"
    },
    {
     "data": {
      "image/png": "[encoded data removed]",
      "text/plain": [
       "<Figure size 504x288 with 1 Axes>"
      ]
     },
     "metadata": {
      "needs_background": "light"
     },
     "output_type": "display_data"
    }
   ],
   "source": [
    "# Plotting bar chat with seaborn\n",
    "\n",
    "plt.figure(figsize=(7,4))\n",
    "#plt.xticks(rotation='vertical')\n",
    "fuel_unit = pd.DataFrame({'unit':['BBL', 'GAL', 'GRAMSU', 'KGU', 'MCF', 'MMBTU', 'MWDTH', 'MWHTH', 'TON'], \n",
    "                          'count':[7998, 84, 464, 110, 11354, 180, 95, 100, 8958]}, columns=['unit', 'count'])\n",
    "sns.barplot(data=fuel_unit, x='unit', y='count')\n",
    "plt.xlabel('Fuel Unit')\n",
    "\n",
    "# Because of the extreme range of the values for the fuel unit, we can plot the barchart by taking the logarithm\n",
    "# of the y-axis as follows:\n",
    "\n",
    "g = sns.barplot(data=fuel_unit, x='unit', y='count')\n",
    "plt.plot(data=fuel_unit)\n",
    "g.set_yscale('log')\n",
    "g.set_ylim(1,12000)\n",
    "\n"
   ]
  },
  {
   "cell_type": "code",
   "execution_count": null,
   "id": "acb5a27f",
   "metadata": {},
   "outputs": [],
   "source": [
    "\n"
   ]
  }
 ],
 "metadata": {
  "kernelspec": {
   "display_name": "Python 3",
   "language": "python",
   "name": "python3"
  },
  "language_info": {
   "codemirror_mode": {
    "name": "ipython",
    "version": 3
   },
   "file_extension": ".py",
   "mimetype": "text/x-python",
   "name": "python",
   "nbconvert_exporter": "python",
   "pygments_lexer": "ipython3",
   "version": "3.6.9"
  }
 },
 "nbformat": 4,
 "nbformat_minor": 5
}
