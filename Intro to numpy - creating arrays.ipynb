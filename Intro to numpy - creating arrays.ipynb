{
 "cells": [
  {
   "cell_type": "code",
   "execution_count": 2,
   "id": "746f069a",
   "metadata": {},
   "outputs": [],
   "source": [
    "#Convention for importing numpy\n",
    "import numpy as np"
   ]
  },
  {
   "cell_type": "code",
   "execution_count": 3,
   "id": "5a32a5d6",
   "metadata": {},
   "outputs": [
    {
     "name": "stdout",
     "output_type": "stream",
     "text": [
      "<class 'list'>\n"
     ]
    }
   ],
   "source": [
    "arr = [6,7,8,9]\n",
    "print(type(arr)) # prints <class 'list'>"
   ]
  },
  {
   "cell_type": "code",
   "execution_count": 4,
   "id": "48f8d3ef",
   "metadata": {},
   "outputs": [
    {
     "name": "stdout",
     "output_type": "stream",
     "text": [
      "<class 'numpy.ndarray'>\n",
      "(4,)\n",
      "int64\n",
      "1\n"
     ]
    }
   ],
   "source": [
    "np_arr = np.array(arr)\n",
    "print(type(np_arr)) # prints <class 'numpy.ndarray'>\n",
    "print(np_arr.shape) # prints (4,) - np_arr is a 1d array with 4 items\n",
    "print(np_arr.dtype) # prints int64\n",
    "\n",
    "#get the dimension of np_arr with ndim\n",
    "print(np_arr.ndim) # prints 1"
   ]
  },
  {
   "cell_type": "code",
   "execution_count": 6,
   "id": "ca76abe9",
   "metadata": {},
   "outputs": [
    {
     "name": "stdout",
     "output_type": "stream",
     "text": [
      "[[1 2 3]\n",
      " [4 5 6]]\n",
      "2\n"
     ]
    },
    {
     "data": {
      "text/plain": [
       "(2, 3)"
      ]
     },
     "execution_count": 6,
     "metadata": {},
     "output_type": "execute_result"
    }
   ],
   "source": [
    "b = np.array([[1,2,3], [4,5,6]])\n",
    "print(b) # prints [[1 2 3]\n",
    "         #        [ 4 5 6]]\n",
    "print(b.ndim) # prints 2\n",
    "b.shape       # prints(2, 3) - b a 2d array with 2 rows and 3 columns"
   ]
  },
  {
   "cell_type": "markdown",
   "id": "d7c9c93a",
   "metadata": {},
   "source": [
    "Built-in functions to initialise numpy "
   ]
  },
  {
   "cell_type": "code",
   "execution_count": 9,
   "id": "caf7dd37",
   "metadata": {},
   "outputs": [
    {
     "data": {
      "text/plain": [
       "array([[0.9116914 , 0.0822941 , 0.56795337],\n",
       "       [0.54807701, 0.63439325, 0.6257343 ]])"
      ]
     },
     "execution_count": 9,
     "metadata": {},
     "output_type": "execute_result"
    }
   ],
   "source": [
    "# # 2 x 3 array with random values\n",
    "# np.random.random((2,3)) = array([[0.60793904, 0.02881965, 0.73022145], [0.34183628, 0.63274057, 0.07945224]])\n",
    "np.random.random((2,3))"
   ]
  },
  {
   "cell_type": "code",
   "execution_count": 11,
   "id": "a41181f3",
   "metadata": {},
   "outputs": [
    {
     "data": {
      "text/plain": [
       "array([[0., 0., 0.],\n",
       "       [0., 0., 0.]])"
      ]
     },
     "execution_count": 11,
     "metadata": {},
     "output_type": "execute_result"
    }
   ],
   "source": [
    "# 2 x 3 array of zeros\n",
    "np.zeros((2,3))"
   ]
  },
  {
   "cell_type": "code",
   "execution_count": 12,
   "id": "3bfd17b2",
   "metadata": {},
   "outputs": [
    {
     "data": {
      "text/plain": [
       "array([[1., 1., 1.],\n",
       "       [1., 1., 1.]])"
      ]
     },
     "execution_count": 12,
     "metadata": {},
     "output_type": "execute_result"
    }
   ],
   "source": [
    "# a 2 x 3 array of ones\n",
    "np.ones((2,3))"
   ]
  },
  {
   "cell_type": "code",
   "execution_count": 13,
   "id": "c9c22859",
   "metadata": {},
   "outputs": [
    {
     "data": {
      "text/plain": [
       "array([0., 0., 0.])"
      ]
     },
     "execution_count": 13,
     "metadata": {},
     "output_type": "execute_result"
    }
   ],
   "source": [
    "# 3 x 3 identity matrix\n",
    "np.zeros(3)"
   ]
  },
  {
   "cell_type": "markdown",
   "id": "4edc4682",
   "metadata": {},
   "source": [
    "Intra-operability of Arrays and Scalars.\n",
    "\n",
    "Vectorisation in numpy arrays allows for faster processing by eliminating for loops when dealing with arrays of equal shape. This allows for batch arithmetic operations on the arrays by applying the operator elementwise. Similarly, scalars are also propagated element-wise across an array. For arrays with different sizes, it is impossible to perform element-wise operations instead; numpy handles this by broadcasting provided the dimensions of the arrays are the same or, one of the dimensions of the array is 1."
   ]
  },
  {
   "cell_type": "code",
   "execution_count": 14,
   "id": "995dbdb6",
   "metadata": {},
   "outputs": [],
   "source": [
    "c = np.array([[9.0, 8.0, 7.0], [1.0, 2.0, 3.0]])\n",
    "d = np.array([[4.0, 5.0, 6.0], [9.0, 8.0, 7.0]])"
   ]
  },
  {
   "cell_type": "code",
   "execution_count": 15,
   "id": "80e486e2",
   "metadata": {},
   "outputs": [
    {
     "data": {
      "text/plain": [
       "array([[13., 13., 13.],\n",
       "       [10., 10., 10.]])"
      ]
     },
     "execution_count": 15,
     "metadata": {},
     "output_type": "execute_result"
    }
   ],
   "source": [
    "c + d\n"
   ]
  },
  {
   "cell_type": "code",
   "execution_count": 16,
   "id": "67c8b7d4",
   "metadata": {},
   "outputs": [
    {
     "data": {
      "text/plain": [
       "array([[36., 40., 42.],\n",
       "       [ 9., 16., 21.]])"
      ]
     },
     "execution_count": 16,
     "metadata": {},
     "output_type": "execute_result"
    }
   ],
   "source": [
    "c * d"
   ]
  },
  {
   "cell_type": "code",
   "execution_count": null,
   "id": "bdc4c233",
   "metadata": {},
   "outputs": [],
   "source": []
  },
  {
   "cell_type": "markdown",
   "id": "bcf108a7",
   "metadata": {},
   "source": [
    "Indexing With Arrays & Using Arrays for Data Processing\n",
    "\n",
    "The elements in the example arrays above can be accessed by indexing like lists in Python such that:"
   ]
  },
  {
   "cell_type": "code",
   "execution_count": 19,
   "id": "b6f3eb7a",
   "metadata": {},
   "outputs": [],
   "source": [
    "np_arr[0] = 6\n",
    "np_arr[3] = 9\n",
    "b[0,0] = 1 # row 0, column 0 = 1\n",
    "b[1,2] = 6 # row 1, column 2 = 6\n",
    "c[0,1] = 8 # row 0, column 1 = 8"
   ]
  },
  {
   "cell_type": "code",
   "execution_count": 20,
   "id": "836f47e7",
   "metadata": {},
   "outputs": [
    {
     "data": {
      "text/plain": [
       "array([[1, 2, 3],\n",
       "       [4, 5, 6]])"
      ]
     },
     "execution_count": 20,
     "metadata": {},
     "output_type": "execute_result"
    }
   ],
   "source": [
    "b"
   ]
  },
  {
   "cell_type": "code",
   "execution_count": 21,
   "id": "6b5c52c0",
   "metadata": {},
   "outputs": [
    {
     "data": {
      "text/plain": [
       "array([[9., 8., 7.],\n",
       "       [1., 2., 3.]])"
      ]
     },
     "execution_count": 21,
     "metadata": {},
     "output_type": "execute_result"
    }
   ],
   "source": [
    "c"
   ]
  },
  {
   "cell_type": "code",
   "execution_count": null,
   "id": "92ae4743",
   "metadata": {},
   "outputs": [],
   "source": []
  },
  {
   "cell_type": "markdown",
   "id": "322f7a12",
   "metadata": {},
   "source": [
    "Elements in arrays  can also be retrieved by slicing rows and columns or a combination of indexing and slicing."
   ]
  },
  {
   "cell_type": "code",
   "execution_count": 23,
   "id": "5e39680c",
   "metadata": {},
   "outputs": [
    {
     "data": {
      "text/plain": [
       "array([9., 8.])"
      ]
     },
     "execution_count": 23,
     "metadata": {},
     "output_type": "execute_result"
    }
   ],
   "source": [
    "d[1, 0:2]"
   ]
  },
  {
   "cell_type": "code",
   "execution_count": 24,
   "id": "7d66fee8",
   "metadata": {},
   "outputs": [],
   "source": [
    "e = np.array([[10, 11, 12], [13, 14,15], [16, 17, 18], [19, 20, 21]])"
   ]
  },
  {
   "cell_type": "code",
   "execution_count": 25,
   "id": "105f936f",
   "metadata": {},
   "outputs": [
    {
     "data": {
      "text/plain": [
       "array([[10, 11, 12],\n",
       "       [13, 14, 15],\n",
       "       [16, 17, 18],\n",
       "       [19, 20, 21]])"
      ]
     },
     "execution_count": 25,
     "metadata": {},
     "output_type": "execute_result"
    }
   ],
   "source": [
    "e"
   ]
  },
  {
   "cell_type": "code",
   "execution_count": 26,
   "id": "778e0f76",
   "metadata": {},
   "outputs": [
    {
     "data": {
      "text/plain": [
       "array([[10, 11],\n",
       "       [13, 14],\n",
       "       [16, 17]])"
      ]
     },
     "execution_count": 26,
     "metadata": {},
     "output_type": "execute_result"
    }
   ],
   "source": [
    "e[:3, :2]"
   ]
  },
  {
   "cell_type": "markdown",
   "id": "af56d3c5",
   "metadata": {},
   "source": [
    "Advanced indexing "
   ]
  },
  {
   "cell_type": "code",
   "execution_count": 29,
   "id": "466fce34",
   "metadata": {},
   "outputs": [
    {
     "data": {
      "text/plain": [
       "array([16, 17, 18, 19, 20, 21])"
      ]
     },
     "execution_count": 29,
     "metadata": {},
     "output_type": "execute_result"
    }
   ],
   "source": [
    "# integer indexing \n",
    "e[e>15] # elements of e greater than 15"
   ]
  },
  {
   "cell_type": "markdown",
   "id": "79eabcda",
   "metadata": {},
   "source": [
    "Numpy also has inbuilt mathematical functions like sum(), mean(), std(), corrcoef(), min() and others. \n",
    "It interestingly allows for comparing arrays using == to check if two arrays have the same elements,  elements in \n",
    "the first array are greater than or less than those of the second array using  > and  <."
   ]
  },
  {
   "cell_type": "markdown",
   "id": "be8f1d68",
   "metadata": {},
   "source": [
    "File Input and Output With Arrays\n",
    "Numpy arrays can be loaded from and saved to binary files with .npy as the extension using load() and save() \n",
    "respectively. This can also be done with text files with text files using loadtxt() and savetxt()."
   ]
  }
 ],
 "metadata": {
  "kernelspec": {
   "display_name": "Python 3",
   "language": "python",
   "name": "python3"
  },
  "language_info": {
   "codemirror_mode": {
    "name": "ipython",
    "version": 3
   },
   "file_extension": ".py",
   "mimetype": "text/x-python",
   "name": "python",
   "nbconvert_exporter": "python",
   "pygments_lexer": "ipython3",
   "version": "3.6.9"
  }
 },
 "nbformat": 4,
 "nbformat_minor": 5
}
