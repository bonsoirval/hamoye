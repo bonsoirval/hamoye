{
 "cells": [
  {
   "cell_type": "code",
   "execution_count": 6,
   "id": "537a2714",
   "metadata": {},
   "outputs": [],
   "source": [
    "# ###########################\n",
    "# Njoku Okechukwu Valentine #\n",
    "# ID : 146a0d67ae81f000     #\n",
    "#############################    \n",
    "    \n",
    "import pandas as pd\n",
    "import numpy as np\n",
    "from math import floor"
   ]
  },
  {
   "cell_type": "code",
   "execution_count": 2,
   "id": "82b8f582",
   "metadata": {},
   "outputs": [
    {
     "data": {
      "text/plain": [
       "7965086.130000001"
      ]
     },
     "execution_count": 2,
     "metadata": {},
     "output_type": "execute_result"
    }
   ],
   "source": [
    "dataset = pd.read_csv('dataset.csv')\n",
    "# dataset['Y2014'].sum() \n",
    "\n",
    "# elements = dataset.groupby('Element')\n",
    "# elements.first()\n",
    "# #elements.get_group('Y2014')\n",
    "\n",
    "# dataset['Y2016'].isnull().count()"
   ]
  },
  {
   "cell_type": "markdown",
   "id": "9c9c7134",
   "metadata": {},
   "source": [
    "# Introduction to Python for machine learning questions\n",
    "# No 11 Question\n",
    "What is the total sum of Animal Fat produced in 2014 and 2017 respectively?\n",
    "\n",
    "Hint:\n",
    "\n",
    "Perform a groupby sum aggregation on ‘Item’\n",
    "\n",
    "332319.31 and 125467.80\n",
    "\n",
    "341432.12 and 331245.67\n",
    "\n",
    "209460.54 and 269617.53\n",
    "\n",
    "213450.34 and 35617.22"
   ]
  },
  {
   "cell_type": "markdown",
   "id": "69400b7c",
   "metadata": {},
   "source": [
    "# N0 11 question answer"
   ]
  },
  {
   "cell_type": "code",
   "execution_count": 3,
   "id": "e9e58f9c",
   "metadata": {},
   "outputs": [
    {
     "name": "stdout",
     "output_type": "stream",
     "text": [
      "The animal fats consumption for \n",
      "Years  2014 and 2017 are 209460.5399999999 and 269617.53 respectively\n"
     ]
    }
   ],
   "source": [
    "groupby_item = dataset.groupby('Item').sum()\n",
    "print(f\"The animal fats consumption for \\nYears  2014 and 2017 are {groupby_item['Y2014']['Animal fats']} and {groupby_item['Y2017']['Animal fats']} respectively\")"
   ]
  },
  {
   "cell_type": "markdown",
   "id": "7b011333",
   "metadata": {},
   "source": [
    "# No. 12  Question\n",
    "What is the mean and standard deviation across the whole dataset for the year 2015 to 3 \n",
    "decimal places?\n",
    "10.60 and 8.49\n",
    "\n",
    "8.\n",
    "\n",
    "5.76 and 10.60\n",
    "\n",
    "135.236 and 1603.404\n",
    "\n",
    "10.60 and 17.01"
   ]
  },
  {
   "cell_type": "markdown",
   "id": "169c35ef",
   "metadata": {},
   "source": [
    "# No 12 Answer"
   ]
  },
  {
   "cell_type": "code",
   "execution_count": 41,
   "id": "e97e3b29",
   "metadata": {
    "scrolled": true
   },
   "outputs": [
    {
     "name": "stdout",
     "output_type": "stream",
     "text": [
      "For 2015, \n",
      "mean : 135.236 and \n",
      "standard deviation : 1603.404 \n",
      "accross the dataset for 2015\n",
      "To 3 decimal places\n"
     ]
    }
   ],
   "source": [
    "print(\"For 2015, \\nmean : {:.3f} and \\\n",
    "\\nstandard deviation : {:.3f} \\\n",
    "\\naccross the dataset for 2015\".format(dataset.mean()['Y2015'], \\\n",
    "                                       dataset.std()['Y2015']))\n",
    "print(\"To 3 decimal places\")"
   ]
  },
  {
   "cell_type": "markdown",
   "id": "e0e3bdb7",
   "metadata": {},
   "source": [
    "# No 13 Question\n",
    "What is the total number and percentage of missing data in 2016 to 2 decimal places?\n",
    "\n",
    "Options\n",
    "1506 and 2.47\n",
    "\n",
    "1548 and 2.54 \n",
    "\n",
    "1506 and 2.47\n",
    "\n",
    "1535 and 2.52\n",
    "\n",
    "1437 and 2.15 percent"
   ]
  },
  {
   "cell_type": "markdown",
   "id": "965473e6",
   "metadata": {},
   "source": [
    "# No 13 Answer"
   ]
  },
  {
   "cell_type": "code",
   "execution_count": 48,
   "id": "8c25c60b",
   "metadata": {},
   "outputs": [
    {
     "name": "stdout",
     "output_type": "stream",
     "text": [
      "\n",
      "Total number of missing data : 1535.00\n",
      "Percentage of missing data :   2.52\n"
     ]
    }
   ],
   "source": [
    "print(\"\"\"\n",
    "Total number of missing data : {:.2f}\n",
    "Percentage of missing data :   {:.2f}\"\"\".format(dataset.isnull().sum()['Y2016'].sum(), \\\n",
    "dataset.isnull().sum()['Y2016']/len(dataset)*100))"
   ]
  },
  {
   "cell_type": "markdown",
   "id": "c182132e",
   "metadata": {},
   "source": [
    "# No 14 Question\n",
    "Which year had the highest correlation with ‘Element Code’? \n",
    "\n",
    "Options\n",
    "2016\n",
    "\n",
    "2014\n",
    "\n",
    "2017\n",
    "\n",
    "2015"
   ]
  },
  {
   "cell_type": "markdown",
   "id": "8e027ec7",
   "metadata": {},
   "source": [
    "# No 14 Answer"
   ]
  },
  {
   "cell_type": "code",
   "execution_count": 79,
   "id": "11edc5f6",
   "metadata": {},
   "outputs": [
    {
     "name": "stdout",
     "output_type": "stream",
     "text": [
      "The Highest Correlation ot Element Code is Y2014\n"
     ]
    }
   ],
   "source": [
    "# function to return the closes correlation to 'Element Code'\n",
    "\n",
    "highest_corr = max(dataset['Element Code'].corr(dataset['Y2014']), \n",
    "dataset['Element Code'].corr(dataset['Y2015']), \n",
    "dataset['Element Code'].corr(dataset['Y2016']),\n",
    "dataset['Element Code'].corr(dataset['Y2017']),\n",
    "dataset['Element Code'].corr(dataset['Y2018']))\n",
    "\n",
    "if highest_corr == dataset['Element Code'].corr(dataset['Y2014']):\n",
    "    print(\"The Highest Correlation ot Element Code is Y2014\")\n",
    "elif highest_corr == dataset['Element Code'].corr(dataset['Y2015']):\n",
    "    print(\"The Highest Correlation ot Element Code is Y2015\")\n",
    "elif highest_corr == dataset['Element Code'].corr(dataset['Y2016']):\n",
    "    print(\"The Highest Correlation ot Element Code is Y2016\")\n",
    "elif highest_corr == dataset['Element Code'].corr(dataset['Y2017']):\n",
    "    print(\"The Highest Correlation ot Element Code is Y2017\")\n",
    "elif highest_corr == dataset['Element Code'].corr(dataset['Y2018']):\n",
    "    print(\"The Highest Correlation ot Element Code is Y2018\")\n"
   ]
  },
  {
   "cell_type": "markdown",
   "id": "e270fbe2",
   "metadata": {},
   "source": [
    "# No 15 Question\n",
    "What year has the highest sum of Import Quantity?\n",
    "\n",
    "Hint- Perform a groupby operation on ‘Element’ and use the resulting Dataframe to answer the question\n",
    "\n",
    "Options\n",
    "2017\n",
    "\n",
    "2014\n",
    "\n",
    "2016\n",
    "\n",
    "2015"
   ]
  },
  {
   "cell_type": "markdown",
   "id": "16cfe0dc",
   "metadata": {},
   "source": [
    "# No 15 Answer"
   ]
  },
  {
   "cell_type": "code",
   "execution_count": 159,
   "id": "59aaa955",
   "metadata": {},
   "outputs": [
    {
     "data": {
      "text/plain": [
       "Y2017    294559.09\n",
       "dtype: float64"
      ]
     },
     "execution_count": 159,
     "metadata": {},
     "output_type": "execute_result"
    }
   ],
   "source": [
    "# Do groupby as required from question, use index location to slice resulting dataframe\n",
    "# from 7th to 8th row (actually selecting only row 7, \"Import Quantity\") and from \n",
    "# 3 to 7th column getting, now the years involved. After which we get the max in a variable\n",
    "# dataset.groupby('Element').sum().iloc[7:8,3:8].max() gets us only the years and row of \n",
    "# interest dataframe into a variable\n",
    "# we then checked the year with highest entry. \n",
    "highest_import_q = dataset.groupby('Element').sum().iloc[7:8,3:8].max().max()\n",
    "df = dataset.groupby('Element').sum().iloc[7:8,3:8].max()\n",
    "df[df == highest_import_q]"
   ]
  },
  {
   "cell_type": "markdown",
   "id": "552569fc",
   "metadata": {},
   "source": [
    "# From the above, 2017 has the highest Import Quantity"
   ]
  },
  {
   "cell_type": "markdown",
   "id": "f0b8028c",
   "metadata": {},
   "source": [
    "# No 16 Question "
   ]
  },
  {
   "cell_type": "markdown",
   "id": "59f67fd5",
   "metadata": {},
   "source": [
    "What is the total number of the sum of Production in 2014?\n",
    "\n",
    "Hint- Perform a groupby operation on ‘Element’ and use the resulting Dataframe to answer the question\n",
    "\n",
    "Options\n",
    "1954537.22\n",
    "\n",
    "202118.43\n",
    "\n",
    "1931287.75\n",
    "\n",
    "207134.67\n",
    "\n",
    "1947019.23"
   ]
  },
  {
   "cell_type": "markdown",
   "id": "01032be3",
   "metadata": {},
   "source": [
    "# No 16 Answert"
   ]
  },
  {
   "cell_type": "code",
   "execution_count": 185,
   "id": "8c2dc2c3",
   "metadata": {},
   "outputs": [
    {
     "name": "stdout",
     "output_type": "stream",
     "text": [
      "total number of the sum of Production in 2014\n"
     ]
    },
    {
     "data": {
      "text/html": [
       "<div>\n",
       "<style scoped>\n",
       "    .dataframe tbody tr th:only-of-type {\n",
       "        vertical-align: middle;\n",
       "    }\n",
       "\n",
       "    .dataframe tbody tr th {\n",
       "        vertical-align: top;\n",
       "    }\n",
       "\n",
       "    .dataframe thead th {\n",
       "        text-align: right;\n",
       "    }\n",
       "</style>\n",
       "<table border=\"1\" class=\"dataframe\">\n",
       "  <thead>\n",
       "    <tr style=\"text-align: right;\">\n",
       "      <th></th>\n",
       "      <th>Y2014</th>\n",
       "    </tr>\n",
       "    <tr>\n",
       "      <th>Element</th>\n",
       "      <th></th>\n",
       "    </tr>\n",
       "  </thead>\n",
       "  <tbody>\n",
       "    <tr>\n",
       "      <th>Production</th>\n",
       "      <td>1931287.75</td>\n",
       "    </tr>\n",
       "  </tbody>\n",
       "</table>\n",
       "</div>"
      ],
      "text/plain": [
       "                 Y2014\n",
       "Element               \n",
       "Production  1931287.75"
      ]
     },
     "execution_count": 185,
     "metadata": {},
     "output_type": "execute_result"
    }
   ],
   "source": [
    "print(\"total number of the sum of Production in 2014\")\n",
    "dataset.groupby('Element').sum().iloc[11:12,3:4]"
   ]
  },
  {
   "cell_type": "markdown",
   "id": "2dee0f42",
   "metadata": {},
   "source": [
    "# N0 17 Question\n",
    "Which of these elements had the highest sum in 2018?\n",
    "\n",
    "Hint-  Select columns ‘Y2018’ and ‘Element’, Perform a groupby operation on ‘Element’ on the selected dataframe and answer the  question.\n",
    "\n",
    "Options\n",
    "Import quantity  8\n",
    "\n",
    "Food supply quantity (kg/capita/yr) 7\n",
    "\n",
    "Food supply (k/cal/capita/day) 6\n",
    "\n",
    "Domestic supply quantity 1"
   ]
  },
  {
   "cell_type": "code",
   "execution_count": 224,
   "id": "d7afbe9f",
   "metadata": {},
   "outputs": [
    {
     "ename": "KeyError",
     "evalue": "\"Passing list-likes to .loc or [] with any missing labels is no longer supported. The following labels were missing: Index(['Element'], dtype='object'). See https://pandas.pydata.org/pandas-docs/stable/user_guide/indexing.html#deprecate-loc-reindex-listlike\"",
     "output_type": "error",
     "traceback": [
      "\u001b[0;31m---------------------------------------------------------------------------\u001b[0m",
      "\u001b[0;31mKeyError\u001b[0m                                  Traceback (most recent call last)",
      "\u001b[0;32m<ipython-input-224-9e2b2195c4aa>\u001b[0m in \u001b[0;36m<module>\u001b[0;34m\u001b[0m\n\u001b[1;32m      1\u001b[0m \u001b[0mdf_16\u001b[0m \u001b[0;34m=\u001b[0m \u001b[0mdataset\u001b[0m\u001b[0;34m.\u001b[0m\u001b[0mgroupby\u001b[0m\u001b[0;34m(\u001b[0m\u001b[0;34m'Element'\u001b[0m\u001b[0;34m)\u001b[0m\u001b[0;34m.\u001b[0m\u001b[0msum\u001b[0m\u001b[0;34m(\u001b[0m\u001b[0;34m)\u001b[0m\u001b[0;34m\u001b[0m\u001b[0;34m\u001b[0m\u001b[0m\n\u001b[0;32m----> 2\u001b[0;31m \u001b[0mdf_16\u001b[0m\u001b[0;34m.\u001b[0m\u001b[0mloc\u001b[0m\u001b[0;34m[\u001b[0m\u001b[0;34m:\u001b[0m\u001b[0;34m,\u001b[0m\u001b[0;34m[\u001b[0m\u001b[0;34m'Y2018'\u001b[0m\u001b[0;34m,\u001b[0m \u001b[0;34m'Element'\u001b[0m\u001b[0;34m]\u001b[0m\u001b[0;34m]\u001b[0m\u001b[0;34m\u001b[0m\u001b[0;34m\u001b[0m\u001b[0m\n\u001b[0m\u001b[1;32m      3\u001b[0m \u001b[0;31m#.drop([5,6], axis=0, inplace=True)\u001b[0m\u001b[0;34m\u001b[0m\u001b[0;34m\u001b[0m\u001b[0;34m\u001b[0m\u001b[0m\n\u001b[1;32m      4\u001b[0m \u001b[0;31m#new_df_16 = df_16.drop([2,3,4,5], axis=0)\u001b[0m\u001b[0;34m\u001b[0m\u001b[0;34m\u001b[0m\u001b[0;34m\u001b[0m\u001b[0m\n\u001b[1;32m      5\u001b[0m \u001b[0;31m#df_16.drop(['Export Quantity', 'Feed'])\u001b[0m\u001b[0;34m\u001b[0m\u001b[0;34m\u001b[0m\u001b[0;34m\u001b[0m\u001b[0m\n",
      "\u001b[0;32m~/Documents/projects/datascience/lab/lib/python3.6/site-packages/pandas/core/indexing.py\u001b[0m in \u001b[0;36m__getitem__\u001b[0;34m(self, key)\u001b[0m\n\u001b[1;32m    871\u001b[0m                     \u001b[0;31m# AttributeError for IntervalTree get_value\u001b[0m\u001b[0;34m\u001b[0m\u001b[0;34m\u001b[0m\u001b[0;34m\u001b[0m\u001b[0m\n\u001b[1;32m    872\u001b[0m                     \u001b[0;32mpass\u001b[0m\u001b[0;34m\u001b[0m\u001b[0;34m\u001b[0m\u001b[0m\n\u001b[0;32m--> 873\u001b[0;31m             \u001b[0;32mreturn\u001b[0m \u001b[0mself\u001b[0m\u001b[0;34m.\u001b[0m\u001b[0m_getitem_tuple\u001b[0m\u001b[0;34m(\u001b[0m\u001b[0mkey\u001b[0m\u001b[0;34m)\u001b[0m\u001b[0;34m\u001b[0m\u001b[0;34m\u001b[0m\u001b[0m\n\u001b[0m\u001b[1;32m    874\u001b[0m         \u001b[0;32melse\u001b[0m\u001b[0;34m:\u001b[0m\u001b[0;34m\u001b[0m\u001b[0;34m\u001b[0m\u001b[0m\n\u001b[1;32m    875\u001b[0m             \u001b[0;31m# we by definition only have the 0th axis\u001b[0m\u001b[0;34m\u001b[0m\u001b[0;34m\u001b[0m\u001b[0;34m\u001b[0m\u001b[0m\n",
      "\u001b[0;32m~/Documents/projects/datascience/lab/lib/python3.6/site-packages/pandas/core/indexing.py\u001b[0m in \u001b[0;36m_getitem_tuple\u001b[0;34m(self, tup)\u001b[0m\n\u001b[1;32m   1053\u001b[0m             \u001b[0;32mreturn\u001b[0m \u001b[0mself\u001b[0m\u001b[0;34m.\u001b[0m\u001b[0m_multi_take\u001b[0m\u001b[0;34m(\u001b[0m\u001b[0mtup\u001b[0m\u001b[0;34m)\u001b[0m\u001b[0;34m\u001b[0m\u001b[0;34m\u001b[0m\u001b[0m\n\u001b[1;32m   1054\u001b[0m \u001b[0;34m\u001b[0m\u001b[0m\n\u001b[0;32m-> 1055\u001b[0;31m         \u001b[0;32mreturn\u001b[0m \u001b[0mself\u001b[0m\u001b[0;34m.\u001b[0m\u001b[0m_getitem_tuple_same_dim\u001b[0m\u001b[0;34m(\u001b[0m\u001b[0mtup\u001b[0m\u001b[0;34m)\u001b[0m\u001b[0;34m\u001b[0m\u001b[0;34m\u001b[0m\u001b[0m\n\u001b[0m\u001b[1;32m   1056\u001b[0m \u001b[0;34m\u001b[0m\u001b[0m\n\u001b[1;32m   1057\u001b[0m     \u001b[0;32mdef\u001b[0m \u001b[0m_get_label\u001b[0m\u001b[0;34m(\u001b[0m\u001b[0mself\u001b[0m\u001b[0;34m,\u001b[0m \u001b[0mlabel\u001b[0m\u001b[0;34m,\u001b[0m \u001b[0maxis\u001b[0m\u001b[0;34m:\u001b[0m \u001b[0mint\u001b[0m\u001b[0;34m)\u001b[0m\u001b[0;34m:\u001b[0m\u001b[0;34m\u001b[0m\u001b[0;34m\u001b[0m\u001b[0m\n",
      "\u001b[0;32m~/Documents/projects/datascience/lab/lib/python3.6/site-packages/pandas/core/indexing.py\u001b[0m in \u001b[0;36m_getitem_tuple_same_dim\u001b[0;34m(self, tup)\u001b[0m\n\u001b[1;32m    748\u001b[0m                 \u001b[0;32mcontinue\u001b[0m\u001b[0;34m\u001b[0m\u001b[0;34m\u001b[0m\u001b[0m\n\u001b[1;32m    749\u001b[0m \u001b[0;34m\u001b[0m\u001b[0m\n\u001b[0;32m--> 750\u001b[0;31m             \u001b[0mretval\u001b[0m \u001b[0;34m=\u001b[0m \u001b[0mgetattr\u001b[0m\u001b[0;34m(\u001b[0m\u001b[0mretval\u001b[0m\u001b[0;34m,\u001b[0m \u001b[0mself\u001b[0m\u001b[0;34m.\u001b[0m\u001b[0mname\u001b[0m\u001b[0;34m)\u001b[0m\u001b[0;34m.\u001b[0m\u001b[0m_getitem_axis\u001b[0m\u001b[0;34m(\u001b[0m\u001b[0mkey\u001b[0m\u001b[0;34m,\u001b[0m \u001b[0maxis\u001b[0m\u001b[0;34m=\u001b[0m\u001b[0mi\u001b[0m\u001b[0;34m)\u001b[0m\u001b[0;34m\u001b[0m\u001b[0;34m\u001b[0m\u001b[0m\n\u001b[0m\u001b[1;32m    751\u001b[0m             \u001b[0;31m# We should never have retval.ndim < self.ndim, as that should\u001b[0m\u001b[0;34m\u001b[0m\u001b[0;34m\u001b[0m\u001b[0;34m\u001b[0m\u001b[0m\n\u001b[1;32m    752\u001b[0m             \u001b[0;31m#  be handled by the _getitem_lowerdim call above.\u001b[0m\u001b[0;34m\u001b[0m\u001b[0;34m\u001b[0m\u001b[0;34m\u001b[0m\u001b[0m\n",
      "\u001b[0;32m~/Documents/projects/datascience/lab/lib/python3.6/site-packages/pandas/core/indexing.py\u001b[0m in \u001b[0;36m_getitem_axis\u001b[0;34m(self, key, axis)\u001b[0m\n\u001b[1;32m   1097\u001b[0m                     \u001b[0;32mraise\u001b[0m \u001b[0mValueError\u001b[0m\u001b[0;34m(\u001b[0m\u001b[0;34m\"Cannot index with multidimensional key\"\u001b[0m\u001b[0;34m)\u001b[0m\u001b[0;34m\u001b[0m\u001b[0;34m\u001b[0m\u001b[0m\n\u001b[1;32m   1098\u001b[0m \u001b[0;34m\u001b[0m\u001b[0m\n\u001b[0;32m-> 1099\u001b[0;31m                 \u001b[0;32mreturn\u001b[0m \u001b[0mself\u001b[0m\u001b[0;34m.\u001b[0m\u001b[0m_getitem_iterable\u001b[0m\u001b[0;34m(\u001b[0m\u001b[0mkey\u001b[0m\u001b[0;34m,\u001b[0m \u001b[0maxis\u001b[0m\u001b[0;34m=\u001b[0m\u001b[0maxis\u001b[0m\u001b[0;34m)\u001b[0m\u001b[0;34m\u001b[0m\u001b[0;34m\u001b[0m\u001b[0m\n\u001b[0m\u001b[1;32m   1100\u001b[0m \u001b[0;34m\u001b[0m\u001b[0m\n\u001b[1;32m   1101\u001b[0m             \u001b[0;31m# nested tuple slicing\u001b[0m\u001b[0;34m\u001b[0m\u001b[0;34m\u001b[0m\u001b[0;34m\u001b[0m\u001b[0m\n",
      "\u001b[0;32m~/Documents/projects/datascience/lab/lib/python3.6/site-packages/pandas/core/indexing.py\u001b[0m in \u001b[0;36m_getitem_iterable\u001b[0;34m(self, key, axis)\u001b[0m\n\u001b[1;32m   1035\u001b[0m \u001b[0;34m\u001b[0m\u001b[0m\n\u001b[1;32m   1036\u001b[0m         \u001b[0;31m# A collection of keys\u001b[0m\u001b[0;34m\u001b[0m\u001b[0;34m\u001b[0m\u001b[0;34m\u001b[0m\u001b[0m\n\u001b[0;32m-> 1037\u001b[0;31m         \u001b[0mkeyarr\u001b[0m\u001b[0;34m,\u001b[0m \u001b[0mindexer\u001b[0m \u001b[0;34m=\u001b[0m \u001b[0mself\u001b[0m\u001b[0;34m.\u001b[0m\u001b[0m_get_listlike_indexer\u001b[0m\u001b[0;34m(\u001b[0m\u001b[0mkey\u001b[0m\u001b[0;34m,\u001b[0m \u001b[0maxis\u001b[0m\u001b[0;34m,\u001b[0m \u001b[0mraise_missing\u001b[0m\u001b[0;34m=\u001b[0m\u001b[0;32mFalse\u001b[0m\u001b[0;34m)\u001b[0m\u001b[0;34m\u001b[0m\u001b[0;34m\u001b[0m\u001b[0m\n\u001b[0m\u001b[1;32m   1038\u001b[0m         return self.obj._reindex_with_indexers(\n\u001b[1;32m   1039\u001b[0m             \u001b[0;34m{\u001b[0m\u001b[0maxis\u001b[0m\u001b[0;34m:\u001b[0m \u001b[0;34m[\u001b[0m\u001b[0mkeyarr\u001b[0m\u001b[0;34m,\u001b[0m \u001b[0mindexer\u001b[0m\u001b[0;34m]\u001b[0m\u001b[0;34m}\u001b[0m\u001b[0;34m,\u001b[0m \u001b[0mcopy\u001b[0m\u001b[0;34m=\u001b[0m\u001b[0;32mTrue\u001b[0m\u001b[0;34m,\u001b[0m \u001b[0mallow_dups\u001b[0m\u001b[0;34m=\u001b[0m\u001b[0;32mTrue\u001b[0m\u001b[0;34m\u001b[0m\u001b[0;34m\u001b[0m\u001b[0m\n",
      "\u001b[0;32m~/Documents/projects/datascience/lab/lib/python3.6/site-packages/pandas/core/indexing.py\u001b[0m in \u001b[0;36m_get_listlike_indexer\u001b[0;34m(self, key, axis, raise_missing)\u001b[0m\n\u001b[1;32m   1252\u001b[0m             \u001b[0mkeyarr\u001b[0m\u001b[0;34m,\u001b[0m \u001b[0mindexer\u001b[0m\u001b[0;34m,\u001b[0m \u001b[0mnew_indexer\u001b[0m \u001b[0;34m=\u001b[0m \u001b[0max\u001b[0m\u001b[0;34m.\u001b[0m\u001b[0m_reindex_non_unique\u001b[0m\u001b[0;34m(\u001b[0m\u001b[0mkeyarr\u001b[0m\u001b[0;34m)\u001b[0m\u001b[0;34m\u001b[0m\u001b[0;34m\u001b[0m\u001b[0m\n\u001b[1;32m   1253\u001b[0m \u001b[0;34m\u001b[0m\u001b[0m\n\u001b[0;32m-> 1254\u001b[0;31m         \u001b[0mself\u001b[0m\u001b[0;34m.\u001b[0m\u001b[0m_validate_read_indexer\u001b[0m\u001b[0;34m(\u001b[0m\u001b[0mkeyarr\u001b[0m\u001b[0;34m,\u001b[0m \u001b[0mindexer\u001b[0m\u001b[0;34m,\u001b[0m \u001b[0maxis\u001b[0m\u001b[0;34m,\u001b[0m \u001b[0mraise_missing\u001b[0m\u001b[0;34m=\u001b[0m\u001b[0mraise_missing\u001b[0m\u001b[0;34m)\u001b[0m\u001b[0;34m\u001b[0m\u001b[0;34m\u001b[0m\u001b[0m\n\u001b[0m\u001b[1;32m   1255\u001b[0m         \u001b[0;32mreturn\u001b[0m \u001b[0mkeyarr\u001b[0m\u001b[0;34m,\u001b[0m \u001b[0mindexer\u001b[0m\u001b[0;34m\u001b[0m\u001b[0;34m\u001b[0m\u001b[0m\n\u001b[1;32m   1256\u001b[0m \u001b[0;34m\u001b[0m\u001b[0m\n",
      "\u001b[0;32m~/Documents/projects/datascience/lab/lib/python3.6/site-packages/pandas/core/indexing.py\u001b[0m in \u001b[0;36m_validate_read_indexer\u001b[0;34m(self, key, indexer, axis, raise_missing)\u001b[0m\n\u001b[1;32m   1314\u001b[0m                 \u001b[0;32mwith\u001b[0m \u001b[0moption_context\u001b[0m\u001b[0;34m(\u001b[0m\u001b[0;34m\"display.max_seq_items\"\u001b[0m\u001b[0;34m,\u001b[0m \u001b[0;36m10\u001b[0m\u001b[0;34m,\u001b[0m \u001b[0;34m\"display.width\"\u001b[0m\u001b[0;34m,\u001b[0m \u001b[0;36m80\u001b[0m\u001b[0;34m)\u001b[0m\u001b[0;34m:\u001b[0m\u001b[0;34m\u001b[0m\u001b[0;34m\u001b[0m\u001b[0m\n\u001b[1;32m   1315\u001b[0m                     raise KeyError(\n\u001b[0;32m-> 1316\u001b[0;31m                         \u001b[0;34m\"Passing list-likes to .loc or [] with any missing labels \"\u001b[0m\u001b[0;34m\u001b[0m\u001b[0;34m\u001b[0m\u001b[0m\n\u001b[0m\u001b[1;32m   1317\u001b[0m                         \u001b[0;34m\"is no longer supported. \"\u001b[0m\u001b[0;34m\u001b[0m\u001b[0;34m\u001b[0m\u001b[0m\n\u001b[1;32m   1318\u001b[0m                         \u001b[0;34mf\"The following labels were missing: {not_found}. \"\u001b[0m\u001b[0;34m\u001b[0m\u001b[0;34m\u001b[0m\u001b[0m\n",
      "\u001b[0;31mKeyError\u001b[0m: \"Passing list-likes to .loc or [] with any missing labels is no longer supported. The following labels were missing: Index(['Element'], dtype='object'). See https://pandas.pydata.org/pandas-docs/stable/user_guide/indexing.html#deprecate-loc-reindex-listlike\""
     ]
    }
   ],
   "source": [
    "df_16 = dataset.loc[0:10,['Y2018', 'Element']].groupby('Element').sum()\n",
    "#.drop([5,6], axis=0, inplace=True)\n",
    "#new_df_16 = df_16.drop([2,3,4,5], axis=0)\n",
    "#df_16.drop(['Export Quantity', 'Feed'])\n",
    "df_16"
   ]
  },
  {
   "cell_type": "code",
   "execution_count": null,
   "id": "c4af4115",
   "metadata": {},
   "outputs": [],
   "source": []
  }
 ],
 "metadata": {
  "kernelspec": {
   "display_name": "Python 3",
   "language": "python",
   "name": "python3"
  },
  "language_info": {
   "codemirror_mode": {
    "name": "ipython",
    "version": 3
   },
   "file_extension": ".py",
   "mimetype": "text/x-python",
   "name": "python",
   "nbconvert_exporter": "python",
   "pygments_lexer": "ipython3",
   "version": "3.6.9"
  }
 },
 "nbformat": 4,
 "nbformat_minor": 5
}
