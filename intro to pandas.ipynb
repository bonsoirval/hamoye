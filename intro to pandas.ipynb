{
 "cells": [
  {
   "cell_type": "code",
   "execution_count": 4,
   "id": "180b2233",
   "metadata": {},
   "outputs": [
    {
     "name": "stdout",
     "output_type": "stream",
     "text": [
      "0       Monday\n",
      "1      Tuesday\n",
      "2    Wednesday\n",
      "dtype: object\n"
     ]
    }
   ],
   "source": [
    "# convention for importing pandas\n",
    "import pandas as pd\n",
    "import numpy as np\n",
    "days = pd.Series(['Monday', 'Tuesday', 'Wednesday'])\n",
    "print(days)"
   ]
  },
  {
   "cell_type": "code",
   "execution_count": null,
   "id": "9439830b",
   "metadata": {},
   "outputs": [],
   "source": [
    "# Accessing Series data using indexes\n",
    "days[0]"
   ]
  },
  {
   "cell_type": "code",
   "execution_count": null,
   "id": "efc362dc",
   "metadata": {},
   "outputs": [],
   "source": [
    "days[1:]"
   ]
  },
  {
   "cell_type": "markdown",
   "id": "349bb634",
   "metadata": {},
   "source": [
    "A DataFrame can be described as a table (2 dimensional) made up of many series with the same index. It holds data\n",
    "in rows and columns just like a spreadsheet. Series, dictionaries, lists, other dataframes, and numpy arrays can \n",
    "be used to create new ones"
   ]
  },
  {
   "cell_type": "code",
   "execution_count": null,
   "id": "c17f45de",
   "metadata": {},
   "outputs": [],
   "source": [
    "#print an empty DataFrame\n",
    "print(pd.DataFrame())"
   ]
  },
  {
   "cell_type": "code",
   "execution_count": null,
   "id": "c813c618",
   "metadata": {},
   "outputs": [],
   "source": [
    "#Create a dataframe from a dictionary\n",
    "\n",
    "# create dictionary df_dict\n",
    "df_dict = {\"Country\":['Ghana', 'Kenya', 'Nigeria', 'Togo'],\n",
    "          'Capital':['Accra', 'Nairobi', 'Abuja', 'Lome'],\n",
    "          'Population': [10000, 8500, 35000, 12000],\n",
    "          'Age':[60, 70, 80, 75]}\n",
    "\n",
    "# Use dictioanry to create a dataframe\n",
    "df = pd.DataFrame(df_dict, index=[2,4,6,8])"
   ]
  },
  {
   "cell_type": "code",
   "execution_count": null,
   "id": "eabc222a",
   "metadata": {},
   "outputs": [],
   "source": [
    "df"
   ]
  },
  {
   "cell_type": "code",
   "execution_count": null,
   "id": "5d8d2028",
   "metadata": {},
   "outputs": [],
   "source": [
    "# Create a dataframe from a list\n",
    "\n",
    "# create a list\n",
    "df_list = [['Ghana', 'Accra', 10000, 60],\n",
    "           ['Kenya', 'Nairobi', 8500, 70],\n",
    "           ['Nigeria', 'Abuja', 35000, 80],\n",
    "           ['Togo', 'Lome', 12000, 75]]\n",
    "\n",
    "# Create dataframe from list\n",
    "# Note that column heading was listed here while using list\n",
    "df1 = pd.DataFrame(df_list, columns=['Countries', 'Capital', 'Population', 'Age'], index=[2,4,6,8]) \n",
    "print(df1)"
   ]
  },
  {
   "cell_type": "markdown",
   "id": "5b014ef2",
   "metadata": {},
   "source": [
    "at, iat, iloc and loc are accessors used to retrieve data in dataframes. iloc selects values from the rows and \n",
    "columns by using integer index to locate positions, while loc selects rows or columns using labels. at and iat are \n",
    "used to retrieve single values such that at uses the column and row labels and iat uses indices."
   ]
  },
  {
   "cell_type": "code",
   "execution_count": null,
   "id": "32ae0750",
   "metadata": {},
   "outputs": [],
   "source": [
    "df.iloc[3] #this selects an entire row, while df.iloc[3,2] select a cell where df.iloc[3,2] intersect"
   ]
  },
  {
   "cell_type": "code",
   "execution_count": null,
   "id": "d3b5f401",
   "metadata": {},
   "outputs": [],
   "source": [
    "df.loc[6] # the 6 in df.loc[6] is workign as a label It is actually the index label of the items selected."
   ]
  },
  {
   "cell_type": "code",
   "execution_count": null,
   "id": "dd82bc70",
   "metadata": {},
   "outputs": [],
   "source": [
    "# Select the capital column\n",
    "df['Capital']"
   ]
  },
  {
   "cell_type": "code",
   "execution_count": null,
   "id": "0d9777c2",
   "metadata": {},
   "outputs": [],
   "source": [
    "df.at[6,'Country'] # row labelled 6, column labelled Country"
   ]
  },
  {
   "cell_type": "code",
   "execution_count": null,
   "id": "98b9659e",
   "metadata": {},
   "outputs": [],
   "source": [
    "df.iat[2,0] # Select exactly row 2, column 0"
   ]
  },
  {
   "cell_type": "markdown",
   "id": "1dc3f3f9",
   "metadata": {},
   "source": [
    "Finally, Indexes in pandas are immutable arrays with unique elements. They can also be described as ordered sets for retrieving data in a dataframe and collaborating with multiple dataframes.\n",
    "\n",
    "The important Pandas functionalities: indexing, reindexing, selection, group, drop entities, ranking, sorting, duplicates and indexing by hierarchy.\n",
    "Summary and descriptive statistics: measure of central tendency, measure of dispersion, skewness and kurtosis, correlation and multicollinearity.\n",
    "Similar to Numpy, Pandas has some functions that provide descriptive statistics such as the measures of central tendency, dispersion, skewness and kurtosis, correlation and multicollinearity. Some functions are mode(), median(), mean(), sum(), std(), var(), skew(), kurt() and min(). The describe function gives the summary  of the numeric columns in a dataframe displaying count, mean, standard deviation, interquartile range, minimum and maximum values."
   ]
  },
  {
   "cell_type": "code",
   "execution_count": null,
   "id": "41579027",
   "metadata": {},
   "outputs": [],
   "source": [
    "df['Population'].sum() # sum all the populations"
   ]
  },
  {
   "cell_type": "code",
   "execution_count": null,
   "id": "e1caac82",
   "metadata": {},
   "outputs": [],
   "source": [
    "df.mean() # find the of the numeric component of the dataframe"
   ]
  },
  {
   "cell_type": "code",
   "execution_count": null,
   "id": "5b7877f4",
   "metadata": {},
   "outputs": [],
   "source": [
    "df.describe() # describe the dataframe being currently worked on. "
   ]
  },
  {
   "cell_type": "markdown",
   "id": "2e89a325",
   "metadata": {},
   "source": [
    "The missing data enigma: Importance, types and handling missing data.\n",
    "    \n",
    "Often, data used for analysis in real life scenarios is incomplete as a result of omission, faulty devices, and \n",
    "many other factors. Pandas represent missing values as NA or NaN which can be filled, removed, and detected with \n",
    "functions like fillna(), dropna(), isnull(), notnull(), replace()."
   ]
  },
  {
   "cell_type": "code",
   "execution_count": 6,
   "id": "4bdf73b5",
   "metadata": {},
   "outputs": [
    {
     "name": "stdout",
     "output_type": "stream",
     "text": [
      "    Name  Profession  Experience  Height\n",
      "0  James  Researcher        12.0     NaN\n",
      "1  Yemen      Artist         NaN   175.0\n",
      "2   Cara      Doctor        10.0   180.0\n",
      "3    NaN      Writer         8.0   150.0\n"
     ]
    }
   ],
   "source": [
    "df_dict2 = {'Name':['James', 'Yemen', 'Cara', np.nan],\n",
    "           'Profession':['Researcher', 'Artist', 'Doctor', 'Writer'],\n",
    "           'Experience':[12,np.nan, 10, 8],\n",
    "           'Height':[np.nan, 175, 180, 150]}\n",
    "new_df = pd.DataFrame(df_dict2)\n",
    "print(new_df)"
   ]
  },
  {
   "cell_type": "code",
   "execution_count": 7,
   "id": "244a9b22",
   "metadata": {},
   "outputs": [
    {
     "data": {
      "text/html": [
       "<div>\n",
       "<style scoped>\n",
       "    .dataframe tbody tr th:only-of-type {\n",
       "        vertical-align: middle;\n",
       "    }\n",
       "\n",
       "    .dataframe tbody tr th {\n",
       "        vertical-align: top;\n",
       "    }\n",
       "\n",
       "    .dataframe thead th {\n",
       "        text-align: right;\n",
       "    }\n",
       "</style>\n",
       "<table border=\"1\" class=\"dataframe\">\n",
       "  <thead>\n",
       "    <tr style=\"text-align: right;\">\n",
       "      <th></th>\n",
       "      <th>Name</th>\n",
       "      <th>Profession</th>\n",
       "      <th>Experience</th>\n",
       "      <th>Height</th>\n",
       "    </tr>\n",
       "  </thead>\n",
       "  <tbody>\n",
       "    <tr>\n",
       "      <th>0</th>\n",
       "      <td>False</td>\n",
       "      <td>False</td>\n",
       "      <td>False</td>\n",
       "      <td>True</td>\n",
       "    </tr>\n",
       "    <tr>\n",
       "      <th>1</th>\n",
       "      <td>False</td>\n",
       "      <td>False</td>\n",
       "      <td>True</td>\n",
       "      <td>False</td>\n",
       "    </tr>\n",
       "    <tr>\n",
       "      <th>2</th>\n",
       "      <td>False</td>\n",
       "      <td>False</td>\n",
       "      <td>False</td>\n",
       "      <td>False</td>\n",
       "    </tr>\n",
       "    <tr>\n",
       "      <th>3</th>\n",
       "      <td>True</td>\n",
       "      <td>False</td>\n",
       "      <td>False</td>\n",
       "      <td>False</td>\n",
       "    </tr>\n",
       "  </tbody>\n",
       "</table>\n",
       "</div>"
      ],
      "text/plain": [
       "    Name  Profession  Experience  Height\n",
       "0  False       False       False    True\n",
       "1  False       False        True   False\n",
       "2  False       False       False   False\n",
       "3   True       False       False   False"
      ]
     },
     "execution_count": 7,
     "metadata": {},
     "output_type": "execute_result"
    }
   ],
   "source": [
    "new_df.isnull()"
   ]
  },
  {
   "cell_type": "code",
   "execution_count": 8,
   "id": "fc1ff196",
   "metadata": {},
   "outputs": [
    {
     "data": {
      "text/html": [
       "<div>\n",
       "<style scoped>\n",
       "    .dataframe tbody tr th:only-of-type {\n",
       "        vertical-align: middle;\n",
       "    }\n",
       "\n",
       "    .dataframe tbody tr th {\n",
       "        vertical-align: top;\n",
       "    }\n",
       "\n",
       "    .dataframe thead th {\n",
       "        text-align: right;\n",
       "    }\n",
       "</style>\n",
       "<table border=\"1\" class=\"dataframe\">\n",
       "  <thead>\n",
       "    <tr style=\"text-align: right;\">\n",
       "      <th></th>\n",
       "      <th>Name</th>\n",
       "      <th>Profession</th>\n",
       "      <th>Experience</th>\n",
       "      <th>Height</th>\n",
       "    </tr>\n",
       "  </thead>\n",
       "  <tbody>\n",
       "    <tr>\n",
       "      <th>2</th>\n",
       "      <td>Cara</td>\n",
       "      <td>Doctor</td>\n",
       "      <td>10.0</td>\n",
       "      <td>180.0</td>\n",
       "    </tr>\n",
       "  </tbody>\n",
       "</table>\n",
       "</div>"
      ],
      "text/plain": [
       "   Name Profession  Experience  Height\n",
       "2  Cara     Doctor        10.0   180.0"
      ]
     },
     "execution_count": 8,
     "metadata": {},
     "output_type": "execute_result"
    }
   ],
   "source": [
    "# Remove rows with missing values\n",
    "new_df.dropna()"
   ]
  },
  {
   "cell_type": "code",
   "execution_count": null,
   "id": "03a7a4b6",
   "metadata": {},
   "outputs": [],
   "source": []
  }
 ],
 "metadata": {
  "kernelspec": {
   "display_name": "Python 3",
   "language": "python",
   "name": "python3"
  },
  "language_info": {
   "codemirror_mode": {
    "name": "ipython",
    "version": 3
   },
   "file_extension": ".py",
   "mimetype": "text/x-python",
   "name": "python",
   "nbconvert_exporter": "python",
   "pygments_lexer": "ipython3",
   "version": "3.6.9"
  }
 },
 "nbformat": 4,
 "nbformat_minor": 5
}
